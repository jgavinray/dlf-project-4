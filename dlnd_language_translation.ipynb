{
 "cells": [
  {
   "cell_type": "markdown",
   "metadata": {
    "collapsed": true
   },
   "source": [
    "# Language Translation\n",
    "In this project, you’re going to take a peek into the realm of neural network machine translation.  You’ll be training a sequence to sequence model on a dataset of English and French sentences that can translate new sentences from English to French.\n",
    "## Get the Data\n",
    "Since translating the whole language of English to French will take lots of time to train, we have provided you with a small portion of the English corpus."
   ]
  },
  {
   "cell_type": "code",
   "execution_count": 1,
   "metadata": {
    "collapsed": true
   },
   "outputs": [],
   "source": [
    "\"\"\"\n",
    "DON'T MODIFY ANYTHING IN THIS CELL\n",
    "\"\"\"\n",
    "import helper\n",
    "import problem_unittests as tests\n",
    "\n",
    "source_path = 'data/small_vocab_en'\n",
    "target_path = 'data/small_vocab_fr'\n",
    "source_text = helper.load_data(source_path)\n",
    "target_text = helper.load_data(target_path)"
   ]
  },
  {
   "cell_type": "markdown",
   "metadata": {},
   "source": [
    "## Explore the Data\n",
    "Play around with view_sentence_range to view different parts of the data."
   ]
  },
  {
   "cell_type": "code",
   "execution_count": 2,
   "metadata": {
    "collapsed": false
   },
   "outputs": [
    {
     "name": "stdout",
     "output_type": "stream",
     "text": [
      "Dataset Stats\n",
      "Roughly the number of unique words: 227\n",
      "Number of sentences: 137861\n",
      "Average number of words in a sentence: 13.225277634719028\n",
      "\n",
      "English sentences 0 to 10:\n",
      "new jersey is sometimes quiet during autumn , and it is snowy in april .\n",
      "the united states is usually chilly during july , and it is usually freezing in november .\n",
      "california is usually quiet during march , and it is usually hot in june .\n",
      "the united states is sometimes mild during june , and it is cold in september .\n",
      "your least liked fruit is the grape , but my least liked is the apple .\n",
      "his favorite fruit is the orange , but my favorite is the grape .\n",
      "paris is relaxing during december , but it is usually chilly in july .\n",
      "new jersey is busy during spring , and it is never hot in march .\n",
      "our least liked fruit is the lemon , but my least liked is the grape .\n",
      "the united states is sometimes busy during january , and it is sometimes warm in november .\n",
      "\n",
      "French sentences 0 to 10:\n",
      "new jersey est parfois calme pendant l' automne , et il est neigeux en avril .\n",
      "les états-unis est généralement froid en juillet , et il gèle habituellement en novembre .\n",
      "california est généralement calme en mars , et il est généralement chaud en juin .\n",
      "les états-unis est parfois légère en juin , et il fait froid en septembre .\n",
      "votre moins aimé fruit est le raisin , mais mon moins aimé est la pomme .\n",
      "son fruit préféré est l'orange , mais mon préféré est le raisin .\n",
      "paris est relaxant en décembre , mais il est généralement froid en juillet .\n",
      "new jersey est occupé au printemps , et il est jamais chaude en mars .\n",
      "notre fruit est moins aimé le citron , mais mon moins aimé est le raisin .\n",
      "les états-unis est parfois occupé en janvier , et il est parfois chaud en novembre .\n"
     ]
    }
   ],
   "source": [
    "view_sentence_range = (0, 10)\n",
    "\n",
    "\"\"\"\n",
    "DON'T MODIFY ANYTHING IN THIS CELL\n",
    "\"\"\"\n",
    "import numpy as np\n",
    "\n",
    "print('Dataset Stats')\n",
    "print('Roughly the number of unique words: {}'.format(len({word: None for word in source_text.split()})))\n",
    "\n",
    "sentences = source_text.split('\\n')\n",
    "word_counts = [len(sentence.split()) for sentence in sentences]\n",
    "print('Number of sentences: {}'.format(len(sentences)))\n",
    "print('Average number of words in a sentence: {}'.format(np.average(word_counts)))\n",
    "\n",
    "print()\n",
    "print('English sentences {} to {}:'.format(*view_sentence_range))\n",
    "print('\\n'.join(source_text.split('\\n')[view_sentence_range[0]:view_sentence_range[1]]))\n",
    "print()\n",
    "print('French sentences {} to {}:'.format(*view_sentence_range))\n",
    "print('\\n'.join(target_text.split('\\n')[view_sentence_range[0]:view_sentence_range[1]]))"
   ]
  },
  {
   "cell_type": "markdown",
   "metadata": {},
   "source": [
    "## Implement Preprocessing Function\n",
    "### Text to Word Ids\n",
    "As you did with other RNNs, you must turn the text into a number so the computer can understand it. In the function `text_to_ids()`, you'll turn `source_text` and `target_text` from words to ids.  However, you need to add the `<EOS>` word id at the end of `target_text`.  This will help the neural network predict when the sentence should end.\n",
    "\n",
    "You can get the `<EOS>` word id by doing:\n",
    "```python\n",
    "target_vocab_to_int['<EOS>']\n",
    "```\n",
    "You can get other word ids using `source_vocab_to_int` and `target_vocab_to_int`."
   ]
  },
  {
   "cell_type": "code",
   "execution_count": 3,
   "metadata": {
    "collapsed": false
   },
   "outputs": [
    {
     "name": "stdout",
     "output_type": "stream",
     "text": [
      "Tests Passed\n"
     ]
    }
   ],
   "source": [
    "def text_to_ids(source_text, target_text, source_vocab_to_int, target_vocab_to_int):\n",
    "    \"\"\"\n",
    "    Convert source and target text to proper word ids\n",
    "    :param source_text: String that contains all the source text.\n",
    "    :param target_text: String that contains all the target text.\n",
    "    :param source_vocab_to_int: Dictionary to go from the source words to an id\n",
    "    :param target_vocab_to_int: Dictionary to go from the target words to an id\n",
    "    :return: A tuple of lists (source_id_text, target_id_text)\n",
    "    \"\"\"\n",
    "    source_id_text = [\n",
    "        [source_vocab_to_int[word] for word in sentence.split()]\n",
    "        for sentence in source_text.split('\\n')]\n",
    "    target_id_text = [\n",
    "        [target_vocab_to_int[word] for word in sentence.split()] + [target_vocab_to_int['<EOS>']]\n",
    "        for sentence in target_text.split('\\n')]\n",
    "    \n",
    "    return source_id_text, target_id_text\n",
    "\n",
    "\"\"\"\n",
    "DON'T MODIFY ANYTHING IN THIS CELL THAT IS BELOW THIS LINE\n",
    "\"\"\"\n",
    "tests.test_text_to_ids(text_to_ids)"
   ]
  },
  {
   "cell_type": "markdown",
   "metadata": {},
   "source": [
    "### Preprocess all the data and save it\n",
    "Running the code cell below will preprocess all the data and save it to file."
   ]
  },
  {
   "cell_type": "code",
   "execution_count": 4,
   "metadata": {
    "collapsed": true
   },
   "outputs": [],
   "source": [
    "\"\"\"\n",
    "DON'T MODIFY ANYTHING IN THIS CELL\n",
    "\"\"\"\n",
    "helper.preprocess_and_save_data(source_path, target_path, text_to_ids)"
   ]
  },
  {
   "cell_type": "markdown",
   "metadata": {},
   "source": [
    "# Check Point\n",
    "This is your first checkpoint. If you ever decide to come back to this notebook or have to restart the notebook, you can start from here. The preprocessed data has been saved to disk."
   ]
  },
  {
   "cell_type": "code",
   "execution_count": 5,
   "metadata": {
    "collapsed": true
   },
   "outputs": [],
   "source": [
    "\"\"\"\n",
    "DON'T MODIFY ANYTHING IN THIS CELL\n",
    "\"\"\"\n",
    "import numpy as np\n",
    "import helper\n",
    "\n",
    "(source_int_text, target_int_text), (source_vocab_to_int, target_vocab_to_int), _ = helper.load_preprocess()"
   ]
  },
  {
   "cell_type": "markdown",
   "metadata": {},
   "source": [
    "### Check the Version of TensorFlow and Access to GPU\n",
    "This will check to make sure you have the correct version of TensorFlow and access to a GPU"
   ]
  },
  {
   "cell_type": "code",
   "execution_count": 6,
   "metadata": {
    "collapsed": false
   },
   "outputs": [
    {
     "name": "stdout",
     "output_type": "stream",
     "text": [
      "TensorFlow Version: 1.1.0\n",
      "Default GPU Device: /gpu:0\n"
     ]
    }
   ],
   "source": [
    "\"\"\"\n",
    "DON'T MODIFY ANYTHING IN THIS CELL\n",
    "\"\"\"\n",
    "from distutils.version import LooseVersion\n",
    "import warnings\n",
    "import tensorflow as tf\n",
    "from tensorflow.python.layers.core import Dense\n",
    "\n",
    "# Check TensorFlow Version\n",
    "assert LooseVersion(tf.__version__) >= LooseVersion('1.1'), 'Please use TensorFlow version 1.1 or newer'\n",
    "print('TensorFlow Version: {}'.format(tf.__version__))\n",
    "\n",
    "# Check for a GPU\n",
    "if not tf.test.gpu_device_name():\n",
    "    warnings.warn('No GPU found. Please use a GPU to train your neural network.')\n",
    "else:\n",
    "    print('Default GPU Device: {}'.format(tf.test.gpu_device_name()))"
   ]
  },
  {
   "cell_type": "markdown",
   "metadata": {},
   "source": [
    "## Build the Neural Network\n",
    "You'll build the components necessary to build a Sequence-to-Sequence model by implementing the following functions below:\n",
    "- `model_inputs`\n",
    "- `process_decoder_input`\n",
    "- `encoding_layer`\n",
    "- `decoding_layer_train`\n",
    "- `decoding_layer_infer`\n",
    "- `decoding_layer`\n",
    "- `seq2seq_model`\n",
    "\n",
    "### Input\n",
    "Implement the `model_inputs()` function to create TF Placeholders for the Neural Network. It should create the following placeholders:\n",
    "\n",
    "- Input text placeholder named \"input\" using the TF Placeholder name parameter with rank 2.\n",
    "- Targets placeholder with rank 2.\n",
    "- Learning rate placeholder with rank 0.\n",
    "- Keep probability placeholder named \"keep_prob\" using the TF Placeholder name parameter with rank 0.\n",
    "- Target sequence length placeholder named \"target_sequence_length\" with rank 1\n",
    "- Max target sequence length tensor named \"max_target_len\" getting its value from applying tf.reduce_max on the target_sequence_length placeholder. Rank 0.\n",
    "- Source sequence length placeholder named \"source_sequence_length\" with rank 1\n",
    "\n",
    "Return the placeholders in the following the tuple (input, targets, learning rate, keep probability, target sequence length, max target sequence length, source sequence length)"
   ]
  },
  {
   "cell_type": "code",
   "execution_count": 7,
   "metadata": {
    "collapsed": false
   },
   "outputs": [
    {
     "name": "stdout",
     "output_type": "stream",
     "text": [
      "Tests Passed\n"
     ]
    }
   ],
   "source": [
    "def model_inputs():\n",
    "    \"\"\"\n",
    "    Create TF Placeholders for input, targets, learning rate, and lengths of source and target sequences.\n",
    "    :return: Tuple (input, targets, learning rate, keep probability, target sequence length,\n",
    "    max target sequence length, source sequence length)\n",
    "    \"\"\"\n",
    "    \n",
    "    input_placeholder = tf.placeholder(name=\"input\",shape=[None,None],dtype=tf.int32)\n",
    "    target_placeholder = tf.placeholder(name=\"target\",shape=[None,None],dtype=tf.int32)\n",
    "    learning_rate = tf.placeholder(name=\"learning_rate\",dtype=tf.float32)\n",
    "    keep_prob = tf.placeholder(name=\"keep_prob\",dtype=tf.float32)\n",
    "    target_seq_len = tf.placeholder(name=\"target_sequence_length\",shape=[None],dtype=tf.int32)\n",
    "    max_target_len = tf.reduce_max(name=\"max_target_len\",input_tensor=target_seq_len)\n",
    "    source_seq_len = tf.placeholder(name=\"source_sequence_length\",shape=[None],dtype=tf.int32)\n",
    "    \n",
    "    return input_placeholder, target_placeholder, learning_rate, keep_prob, target_seq_len, max_target_len, source_seq_len\n",
    "\n",
    "\n",
    "\"\"\"\n",
    "DON'T MODIFY ANYTHING IN THIS CELL THAT IS BELOW THIS LINE\n",
    "\"\"\"\n",
    "tests.test_model_inputs(model_inputs)"
   ]
  },
  {
   "cell_type": "markdown",
   "metadata": {},
   "source": [
    "### Process Decoder Input\n",
    "Implement `process_decoder_input` by removing the last word id from each batch in `target_data` and concat the GO ID to the begining of each batch."
   ]
  },
  {
   "cell_type": "code",
   "execution_count": 8,
   "metadata": {
    "collapsed": false
   },
   "outputs": [
    {
     "name": "stdout",
     "output_type": "stream",
     "text": [
      "Tests Passed\n"
     ]
    }
   ],
   "source": [
    "def process_decoder_input(target_data, target_vocab_to_int, batch_size):\n",
    "    \"\"\"\n",
    "    Preprocess target data for encoding\n",
    "    :param target_data: Target Placehoder\n",
    "    :param target_vocab_to_int: Dictionary to go from the target words to an id\n",
    "    :param batch_size: Batch Size\n",
    "    :return: Preprocessed target data\n",
    "    \"\"\"\n",
    "    ending = tf.strided_slice(target_data, [0, 0], [batch_size, -1], [1, 1])\n",
    "    decoder_input = tf.concat([tf.fill([batch_size, 1], target_vocab_to_int['<GO>']), ending], 1)\n",
    "\n",
    "    return decoder_input\n",
    "\"\"\"\n",
    "DON'T MODIFY ANYTHING IN THIS CELL THAT IS BELOW THIS LINE\n",
    "\"\"\"\n",
    "tests.test_process_encoding_input(process_decoder_input)"
   ]
  },
  {
   "cell_type": "markdown",
   "metadata": {},
   "source": [
    "### Encoding\n",
    "Implement `encoding_layer()` to create a Encoder RNN layer:\n",
    " * Embed the encoder input using [`tf.contrib.layers.embed_sequence`](https://www.tensorflow.org/api_docs/python/tf/contrib/layers/embed_sequence)\n",
    " * Construct a [stacked](https://github.com/tensorflow/tensorflow/blob/6947f65a374ebf29e74bb71e36fd82760056d82c/tensorflow/docs_src/tutorials/recurrent.md#stacking-multiple-lstms) [`tf.contrib.rnn.LSTMCell`](https://www.tensorflow.org/api_docs/python/tf/contrib/rnn/LSTMCell) wrapped in a [`tf.contrib.rnn.DropoutWrapper`](https://www.tensorflow.org/api_docs/python/tf/contrib/rnn/DropoutWrapper)\n",
    " * Pass cell and embedded input to [`tf.nn.dynamic_rnn()`](https://www.tensorflow.org/api_docs/python/tf/nn/dynamic_rnn)"
   ]
  },
  {
   "cell_type": "code",
   "execution_count": 9,
   "metadata": {
    "collapsed": false,
    "scrolled": false
   },
   "outputs": [
    {
     "name": "stdout",
     "output_type": "stream",
     "text": [
      "Tests Passed\n"
     ]
    }
   ],
   "source": [
    "from imp import reload\n",
    "reload(tests)\n",
    "\n",
    "def encoding_layer(rnn_inputs, rnn_size, num_layers, keep_prob, \n",
    "                   source_sequence_length, source_vocab_size, \n",
    "                   encoding_embedding_size):\n",
    "    \"\"\"\n",
    "    Create encoding layer\n",
    "    :param rnn_inputs: Inputs for the RNN\n",
    "    :param rnn_size: RNN Size\n",
    "    :param num_layers: Number of layers\n",
    "    :param keep_prob: Dropout keep probability\n",
    "    :param source_sequence_length: a list of the lengths of each sequence in the batch\n",
    "    :param source_vocab_size: vocabulary size of source data\n",
    "    :param encoding_embedding_size: embedding size of source data\n",
    "    :return: tuple (RNN output, RNN state)\n",
    "    \"\"\"\n",
    "    enc_embed_input = tf.contrib.layers.embed_sequence(\n",
    "        rnn_inputs, source_vocab_size, encoding_embedding_size)\n",
    "    \n",
    "    def lstm_cell():\n",
    "        lstm = tf.contrib.rnn.LSTMCell(\n",
    "            rnn_size, initializer=tf.random_uniform_initializer(-0.1, 0.1, seed=2))\n",
    "        return tf.contrib.rnn.DropoutWrapper(lstm, output_keep_prob=keep_prob)\n",
    "    \n",
    "    enc_cell = tf.contrib.rnn.MultiRNNCell([lstm_cell() for _ in range(num_layers)])\n",
    "    \n",
    "    enc_output, enc_state = tf.nn.dynamic_rnn(\n",
    "        enc_cell, enc_embed_input, sequence_length=source_sequence_length, dtype=tf.float32)\n",
    "    \n",
    "    return enc_cell, enc_state\n",
    "\n",
    "\"\"\"\n",
    "DON'T MODIFY ANYTHING IN THIS CELL THAT IS BELOW THIS LINE\n",
    "\"\"\"\n",
    "tests.test_encoding_layer(encoding_layer)"
   ]
  },
  {
   "cell_type": "markdown",
   "metadata": {},
   "source": [
    "### Decoding - Training\n",
    "Create a training decoding layer:\n",
    "* Create a [`tf.contrib.seq2seq.TrainingHelper`](https://www.tensorflow.org/api_docs/python/tf/contrib/seq2seq/TrainingHelper) \n",
    "* Create a [`tf.contrib.seq2seq.BasicDecoder`](https://www.tensorflow.org/api_docs/python/tf/contrib/seq2seq/BasicDecoder)\n",
    "* Obtain the decoder outputs from [`tf.contrib.seq2seq.dynamic_decode`](https://www.tensorflow.org/api_docs/python/tf/contrib/seq2seq/dynamic_decode)"
   ]
  },
  {
   "cell_type": "code",
   "execution_count": 10,
   "metadata": {
    "collapsed": false
   },
   "outputs": [
    {
     "name": "stdout",
     "output_type": "stream",
     "text": [
      "Tests Passed\n"
     ]
    }
   ],
   "source": [
    "\n",
    "def decoding_layer_train(encoder_state, dec_cell, dec_embed_input, \n",
    "                         target_sequence_length, max_summary_length, \n",
    "                         output_layer, keep_prob):\n",
    "    \"\"\"\n",
    "    Create a decoding layer for training\n",
    "    :param encoder_state: Encoder State\n",
    "    :param dec_cell: Decoder RNN Cell\n",
    "    :param dec_embed_input: Decoder embedded input\n",
    "    :param target_sequence_length: The lengths of each sequence in the target batch\n",
    "    :param max_summary_length: The length of the longest sequence in the batch\n",
    "    :param output_layer: Function to apply the output layer\n",
    "    :param keep_prob: Dropout keep probability\n",
    "    :return: BasicDecoderOutput containing training logits and sample_id\n",
    "    \"\"\"\n",
    "    training_helper = tf.contrib.seq2seq.TrainingHelper(\n",
    "        inputs=dec_embed_input, sequence_length=target_sequence_length, time_major=False)\n",
    "        \n",
    "    training_decoder = tf.contrib.seq2seq.BasicDecoder(\n",
    "        dec_cell, training_helper, encoder_state, output_layer)\n",
    "        \n",
    "    training_decoder_output, _ = tf.contrib.seq2seq.dynamic_decode(\n",
    "        training_decoder, impute_finished=True, maximum_iterations=max_summary_length)\n",
    "    \n",
    "    return training_decoder_output\n",
    "\n",
    "\n",
    "\"\"\"\n",
    "DON'T MODIFY ANYTHING IN THIS CELL THAT IS BELOW THIS LINE\n",
    "\"\"\"\n",
    "tests.test_decoding_layer_train(decoding_layer_train)"
   ]
  },
  {
   "cell_type": "markdown",
   "metadata": {},
   "source": [
    "### Decoding - Inference\n",
    "Create inference decoder:\n",
    "* Create a [`tf.contrib.seq2seq.GreedyEmbeddingHelper`](https://www.tensorflow.org/api_docs/python/tf/contrib/seq2seq/GreedyEmbeddingHelper)\n",
    "* Create a [`tf.contrib.seq2seq.BasicDecoder`](https://www.tensorflow.org/api_docs/python/tf/contrib/seq2seq/BasicDecoder)\n",
    "* Obtain the decoder outputs from [`tf.contrib.seq2seq.dynamic_decode`](https://www.tensorflow.org/api_docs/python/tf/contrib/seq2seq/dynamic_decode)"
   ]
  },
  {
   "cell_type": "code",
   "execution_count": 11,
   "metadata": {
    "collapsed": false,
    "scrolled": true
   },
   "outputs": [
    {
     "name": "stdout",
     "output_type": "stream",
     "text": [
      "Tests Passed\n"
     ]
    }
   ],
   "source": [
    "def decoding_layer_infer(encoder_state, dec_cell, dec_embeddings, start_of_sequence_id,\n",
    "                         end_of_sequence_id, max_target_sequence_length,\n",
    "                         vocab_size, output_layer, batch_size, keep_prob):\n",
    "    \"\"\"\n",
    "    Create a decoding layer for inference\n",
    "    :param encoder_state: Encoder state\n",
    "    :param dec_cell: Decoder RNN Cell\n",
    "    :param dec_embeddings: Decoder embeddings\n",
    "    :param start_of_sequence_id: GO ID\n",
    "    :param end_of_sequence_id: EOS Id\n",
    "    :param max_target_sequence_length: Maximum length of target sequences\n",
    "    :param vocab_size: Size of decoder/target vocabulary\n",
    "    :param decoding_scope: TenorFlow Variable Scope for decoding\n",
    "    :param output_layer: Function to apply the output layer\n",
    "    :param batch_size: Batch size\n",
    "    :param keep_prob: Dropout keep probability\n",
    "    :return: BasicDecoderOutput containing inference logits and sample_id\n",
    "    \"\"\"\n",
    "    start_tokens = tf.tile(tf.constant([start_of_sequence_id], dtype=tf.int32), [batch_size], name='start_tokens')\n",
    "    \n",
    "    inference_helper = tf.contrib.seq2seq.GreedyEmbeddingHelper(\n",
    "        dec_embeddings, start_tokens, end_of_sequence_id)\n",
    "\n",
    "    inference_decoder = tf.contrib.seq2seq.BasicDecoder(\n",
    "        dec_cell, inference_helper, encoder_state, output_layer)\n",
    "        \n",
    "    inference_decoder_output, _ = tf.contrib.seq2seq.dynamic_decode(\n",
    "        inference_decoder, impute_finished=True, maximum_iterations=max_target_sequence_length)\n",
    "    \n",
    "    return inference_decoder_output\n",
    "\n",
    "\n",
    "\n",
    "\"\"\"\n",
    "DON'T MODIFY ANYTHING IN THIS CELL THAT IS BELOW THIS LINE\n",
    "\"\"\"\n",
    "tests.test_decoding_layer_infer(decoding_layer_infer)"
   ]
  },
  {
   "cell_type": "markdown",
   "metadata": {},
   "source": [
    "### Build the Decoding Layer\n",
    "Implement `decoding_layer()` to create a Decoder RNN layer.\n",
    "\n",
    "* Embed the target sequences\n",
    "* Construct the decoder LSTM cell (just like you constructed the encoder cell above)\n",
    "* Create an output layer to map the outputs of the decoder to the elements of our vocabulary\n",
    "* Use the your `decoding_layer_train(encoder_state, dec_cell, dec_embed_input, target_sequence_length, max_target_sequence_length, output_layer, keep_prob)` function to get the training logits.\n",
    "* Use your `decoding_layer_infer(encoder_state, dec_cell, dec_embeddings, start_of_sequence_id, end_of_sequence_id, max_target_sequence_length, vocab_size, output_layer, batch_size, keep_prob)` function to get the inference logits.\n",
    "\n",
    "Note: You'll need to use [tf.variable_scope](https://www.tensorflow.org/api_docs/python/tf/variable_scope) to share variables between training and inference."
   ]
  },
  {
   "cell_type": "code",
   "execution_count": 12,
   "metadata": {
    "collapsed": false
   },
   "outputs": [
    {
     "name": "stdout",
     "output_type": "stream",
     "text": [
      "Tests Passed\n"
     ]
    }
   ],
   "source": [
    "def decoding_layer(dec_input, encoder_state,\n",
    "                   target_sequence_length, max_target_sequence_length,\n",
    "                   rnn_size,\n",
    "                   num_layers, target_vocab_to_int, target_vocab_size,\n",
    "                   batch_size, keep_prob, decoding_embedding_size):\n",
    "    \"\"\"\n",
    "    Create decoding layer\n",
    "    :param dec_input: Decoder input\n",
    "    :param encoder_state: Encoder state\n",
    "    :param target_sequence_length: The lengths of each sequence in the target batch\n",
    "    :param max_target_sequence_length: Maximum length of target sequences\n",
    "    :param rnn_size: RNN Size\n",
    "    :param num_layers: Number of layers\n",
    "    :param target_vocab_to_int: Dictionary to go from the target words to an id\n",
    "    :param target_vocab_size: Size of target vocabulary\n",
    "    :param batch_size: The size of the batch\n",
    "    :param keep_prob: Dropout keep probability\n",
    "    :return: Tuple of (Training BasicDecoderOutput, Inference BasicDecoderOutput)\n",
    "    \"\"\"\n",
    "    dec_embeddings = tf.Variable(tf.random_uniform([target_vocab_size, decoding_embedding_size]))\n",
    "    dec_embed_input = tf.nn.embedding_lookup(dec_embeddings, dec_input)\n",
    "    \n",
    "    def lstm_cell():\n",
    "        lstm = tf.contrib.rnn.LSTMCell(\n",
    "            rnn_size, initializer=tf.random_uniform_initializer(-0.1, 0.1, seed=2))\n",
    "        return tf.contrib.rnn.DropoutWrapper(lstm, output_keep_prob=keep_prob)\n",
    "    \n",
    "    dec_cell = tf.contrib.rnn.MultiRNNCell([lstm_cell() for _ in range(num_layers)])\n",
    "    \n",
    "    output_layer = Dense(target_vocab_size,\n",
    "        kernel_initializer=tf.truncated_normal_initializer(mean=0.0, stddev=0.1))\n",
    "    \n",
    "    with tf.variable_scope(\"decode\"):\n",
    "        training_decoder_output = decoding_layer_train(encoder_state, dec_cell, dec_embed_input,\n",
    "            target_sequence_length, max_target_sequence_length, output_layer, keep_prob)\n",
    "    \n",
    "    with tf.variable_scope(\"decode\", reuse=True):\n",
    "        start_of_sequence_id = target_vocab_to_int['<GO>']\n",
    "        end_of_sequence_id = target_vocab_to_int['<EOS>']\n",
    "        inference_decoder_output = decoding_layer_infer(encoder_state, dec_cell, dec_embeddings,\n",
    "            start_of_sequence_id, end_of_sequence_id, max_target_sequence_length, target_vocab_size,\n",
    "            output_layer, batch_size, keep_prob)\n",
    "    \n",
    "    return training_decoder_output, inference_decoder_output\n",
    "\n",
    "\n",
    "\n",
    "\"\"\"\n",
    "DON'T MODIFY ANYTHING IN THIS CELL THAT IS BELOW THIS LINE\n",
    "\"\"\"\n",
    "tests.test_decoding_layer(decoding_layer)"
   ]
  },
  {
   "cell_type": "markdown",
   "metadata": {},
   "source": [
    "### Build the Neural Network\n",
    "Apply the functions you implemented above to:\n",
    "\n",
    "- Apply embedding to the input data for the encoder.\n",
    "- Encode the input using your `encoding_layer(rnn_inputs, rnn_size, num_layers, keep_prob,  source_sequence_length, source_vocab_size, encoding_embedding_size)`.\n",
    "- Process target data using your `process_decoder_input(target_data, target_vocab_to_int, batch_size)` function.\n",
    "- Apply embedding to the target data for the decoder.\n",
    "- Decode the encoded input using your `decoding_layer(dec_input, enc_state, target_sequence_length, max_target_sentence_length, rnn_size, num_layers, target_vocab_to_int, target_vocab_size, batch_size, keep_prob, dec_embedding_size)` function."
   ]
  },
  {
   "cell_type": "code",
   "execution_count": 13,
   "metadata": {
    "collapsed": false
   },
   "outputs": [
    {
     "name": "stdout",
     "output_type": "stream",
     "text": [
      "Tests Passed\n"
     ]
    }
   ],
   "source": [
    "def seq2seq_model(input_data, target_data, keep_prob, batch_size,\n",
    "                  source_sequence_length, target_sequence_length,\n",
    "                  max_target_sentence_length,\n",
    "                  source_vocab_size, target_vocab_size,\n",
    "                  enc_embedding_size, dec_embedding_size,\n",
    "                  rnn_size, num_layers, target_vocab_to_int):\n",
    "    \"\"\"\n",
    "    Build the Sequence-to-Sequence part of the neural network\n",
    "    :param input_data: Input placeholder\n",
    "    :param target_data: Target placeholder\n",
    "    :param keep_prob: Dropout keep probability placeholder\n",
    "    :param batch_size: Batch Size\n",
    "    :param source_sequence_length: Sequence Lengths of source sequences in the batch\n",
    "    :param target_sequence_length: Sequence Lengths of target sequences in the batch\n",
    "    :param source_vocab_size: Source vocabulary size\n",
    "    :param target_vocab_size: Target vocabulary size\n",
    "    :param enc_embedding_size: Decoder embedding size\n",
    "    :param dec_embedding_size: Encoder embedding size\n",
    "    :param rnn_size: RNN Size\n",
    "    :param num_layers: Number of layers\n",
    "    :param target_vocab_to_int: Dictionary to go from the target words to an id\n",
    "    :return: Tuple of (Training BasicDecoderOutput, Inference BasicDecoderOutput)\n",
    "    \"\"\"\n",
    "    _, enc_state = encoding_layer(input_data, rnn_size, num_layers, keep_prob,\n",
    "                                  source_sequence_length, source_vocab_size,\n",
    "                                  enc_embedding_size)\n",
    "    \n",
    "    dec_input = process_decoder_input(target_data, target_vocab_to_int, batch_size)\n",
    "    \n",
    "    training_decoder_output, inference_decoder_output = decoding_layer(\n",
    "        dec_input, enc_state, target_sequence_length, max_target_sentence_length,\n",
    "        rnn_size, num_layers, target_vocab_to_int, target_vocab_size, batch_size,\n",
    "        keep_prob, dec_embedding_size)\n",
    "    \n",
    "    return training_decoder_output, inference_decoder_output\n",
    "\n",
    "\n",
    "\"\"\"\n",
    "DON'T MODIFY ANYTHING IN THIS CELL THAT IS BELOW THIS LINE\n",
    "\"\"\"\n",
    "tests.test_seq2seq_model(seq2seq_model)"
   ]
  },
  {
   "cell_type": "markdown",
   "metadata": {},
   "source": [
    "## Neural Network Training\n",
    "### Hyperparameters\n",
    "Tune the following parameters:\n",
    "\n",
    "- Set `epochs` to the number of epochs.\n",
    "- Set `batch_size` to the batch size.\n",
    "- Set `rnn_size` to the size of the RNNs.\n",
    "- Set `num_layers` to the number of layers.\n",
    "- Set `encoding_embedding_size` to the size of the embedding for the encoder.\n",
    "- Set `decoding_embedding_size` to the size of the embedding for the decoder.\n",
    "- Set `learning_rate` to the learning rate.\n",
    "- Set `keep_probability` to the Dropout keep probability\n",
    "- Set `display_step` to state how many steps between each debug output statement"
   ]
  },
  {
   "cell_type": "code",
   "execution_count": 14,
   "metadata": {
    "collapsed": true
   },
   "outputs": [],
   "source": [
    "# Number of Epochs\n",
    "epochs = 3\n",
    "# Batch Size\n",
    "batch_size = 256\n",
    "# RNN Size\n",
    "rnn_size = 512\n",
    "# Number of Layers\n",
    "num_layers = 2\n",
    "# Embedding Size\n",
    "encoding_embedding_size = 256\n",
    "decoding_embedding_size = 256\n",
    "# Learning Rate\n",
    "learning_rate = 0.005\n",
    "# Dropout Keep Probability\n",
    "keep_probability = 0.5\n",
    "display_step = 10"
   ]
  },
  {
   "cell_type": "markdown",
   "metadata": {},
   "source": [
    "### Build the Graph\n",
    "Build the graph using the neural network you implemented."
   ]
  },
  {
   "cell_type": "code",
   "execution_count": 15,
   "metadata": {
    "collapsed": true
   },
   "outputs": [],
   "source": [
    "\"\"\"\n",
    "DON'T MODIFY ANYTHING IN THIS CELL\n",
    "\"\"\"\n",
    "save_path = 'checkpoints/dev'\n",
    "(source_int_text, target_int_text), (source_vocab_to_int, target_vocab_to_int), _ = helper.load_preprocess()\n",
    "max_target_sentence_length = max([len(sentence) for sentence in source_int_text])\n",
    "\n",
    "train_graph = tf.Graph()\n",
    "with train_graph.as_default():\n",
    "    input_data, targets, lr, keep_prob, target_sequence_length, max_target_sequence_length, source_sequence_length = model_inputs()\n",
    "\n",
    "    #sequence_length = tf.placeholder_with_default(max_target_sentence_length, None, name='sequence_length')\n",
    "    input_shape = tf.shape(input_data)\n",
    "\n",
    "    train_logits, inference_logits = seq2seq_model(tf.reverse(input_data, [-1]),\n",
    "                                                   targets,\n",
    "                                                   keep_prob,\n",
    "                                                   batch_size,\n",
    "                                                   source_sequence_length,\n",
    "                                                   target_sequence_length,\n",
    "                                                   max_target_sequence_length,\n",
    "                                                   len(source_vocab_to_int),\n",
    "                                                   len(target_vocab_to_int),\n",
    "                                                   encoding_embedding_size,\n",
    "                                                   decoding_embedding_size,\n",
    "                                                   rnn_size,\n",
    "                                                   num_layers,\n",
    "                                                   target_vocab_to_int)\n",
    "\n",
    "\n",
    "    training_logits = tf.identity(train_logits.rnn_output, name='logits')\n",
    "    inference_logits = tf.identity(inference_logits.sample_id, name='predictions')\n",
    "\n",
    "    masks = tf.sequence_mask(target_sequence_length, max_target_sequence_length, dtype=tf.float32, name='masks')\n",
    "\n",
    "    with tf.name_scope(\"optimization\"):\n",
    "        # Loss function\n",
    "        cost = tf.contrib.seq2seq.sequence_loss(\n",
    "            training_logits,\n",
    "            targets,\n",
    "            masks)\n",
    "\n",
    "        # Optimizer\n",
    "        optimizer = tf.train.AdamOptimizer(lr)\n",
    "\n",
    "        # Gradient Clipping\n",
    "        gradients = optimizer.compute_gradients(cost)\n",
    "        capped_gradients = [(tf.clip_by_value(grad, -1., 1.), var) for grad, var in gradients if grad is not None]\n",
    "        train_op = optimizer.apply_gradients(capped_gradients)\n"
   ]
  },
  {
   "cell_type": "markdown",
   "metadata": {},
   "source": [
    "Batch and pad the source and target sequences"
   ]
  },
  {
   "cell_type": "code",
   "execution_count": 16,
   "metadata": {
    "collapsed": true
   },
   "outputs": [],
   "source": [
    "\"\"\"\n",
    "DON'T MODIFY ANYTHING IN THIS CELL\n",
    "\"\"\"\n",
    "def pad_sentence_batch(sentence_batch, pad_int):\n",
    "    \"\"\"Pad sentences with <PAD> so that each sentence of a batch has the same length\"\"\"\n",
    "    max_sentence = max([len(sentence) for sentence in sentence_batch])\n",
    "    return [sentence + [pad_int] * (max_sentence - len(sentence)) for sentence in sentence_batch]\n",
    "\n",
    "\n",
    "def get_batches(sources, targets, batch_size, source_pad_int, target_pad_int):\n",
    "    \"\"\"Batch targets, sources, and the lengths of their sentences together\"\"\"\n",
    "    for batch_i in range(0, len(sources)//batch_size):\n",
    "        start_i = batch_i * batch_size\n",
    "\n",
    "        # Slice the right amount for the batch\n",
    "        sources_batch = sources[start_i:start_i + batch_size]\n",
    "        targets_batch = targets[start_i:start_i + batch_size]\n",
    "\n",
    "        # Pad\n",
    "        pad_sources_batch = np.array(pad_sentence_batch(sources_batch, source_pad_int))\n",
    "        pad_targets_batch = np.array(pad_sentence_batch(targets_batch, target_pad_int))\n",
    "\n",
    "        # Need the lengths for the _lengths parameters\n",
    "        pad_targets_lengths = []\n",
    "        for target in pad_targets_batch:\n",
    "            pad_targets_lengths.append(len(target))\n",
    "\n",
    "        pad_source_lengths = []\n",
    "        for source in pad_sources_batch:\n",
    "            pad_source_lengths.append(len(source))\n",
    "\n",
    "        yield pad_sources_batch, pad_targets_batch, pad_source_lengths, pad_targets_lengths\n"
   ]
  },
  {
   "cell_type": "markdown",
   "metadata": {},
   "source": [
    "### Train\n",
    "Train the neural network on the preprocessed data. If you have a hard time getting a good loss, check the forms to see if anyone is having the same problem."
   ]
  },
  {
   "cell_type": "code",
   "execution_count": 17,
   "metadata": {
    "collapsed": false,
    "scrolled": false
   },
   "outputs": [
    {
     "name": "stdout",
     "output_type": "stream",
     "text": [
      "Epoch   0 Batch   10/538 - Train Accuracy: 0.2951, Validation Accuracy: 0.3805, Loss: 3.5508\n",
      "Epoch   0 Batch   20/538 - Train Accuracy: 0.3464, Validation Accuracy: 0.3903, Loss: 3.0185\n",
      "Epoch   0 Batch   30/538 - Train Accuracy: 0.3568, Validation Accuracy: 0.4263, Loss: 2.9362\n",
      "Epoch   0 Batch   40/538 - Train Accuracy: 0.4600, Validation Accuracy: 0.4593, Loss: 2.3966\n",
      "Epoch   0 Batch   50/538 - Train Accuracy: 0.4328, Validation Accuracy: 0.4723, Loss: 2.2842\n",
      "Epoch   0 Batch   60/538 - Train Accuracy: 0.4305, Validation Accuracy: 0.4794, Loss: 2.0493\n",
      "Epoch   0 Batch   70/538 - Train Accuracy: 0.4507, Validation Accuracy: 0.4769, Loss: 1.7246\n",
      "Epoch   0 Batch   80/538 - Train Accuracy: 0.4074, Validation Accuracy: 0.4677, Loss: 1.5469\n",
      "Epoch   0 Batch   90/538 - Train Accuracy: 0.4204, Validation Accuracy: 0.4553, Loss: 1.2904\n",
      "Epoch   0 Batch  100/538 - Train Accuracy: 0.4484, Validation Accuracy: 0.4881, Loss: 1.1334\n",
      "Epoch   0 Batch  110/538 - Train Accuracy: 0.4145, Validation Accuracy: 0.4806, Loss: 1.0979\n",
      "Epoch   0 Batch  120/538 - Train Accuracy: 0.4641, Validation Accuracy: 0.5101, Loss: 0.9701\n",
      "Epoch   0 Batch  130/538 - Train Accuracy: 0.4983, Validation Accuracy: 0.4979, Loss: 0.9020\n",
      "Epoch   0 Batch  140/538 - Train Accuracy: 0.4758, Validation Accuracy: 0.5336, Loss: 0.9619\n",
      "Epoch   0 Batch  150/538 - Train Accuracy: 0.5436, Validation Accuracy: 0.5508, Loss: 0.8596\n",
      "Epoch   0 Batch  160/538 - Train Accuracy: 0.5461, Validation Accuracy: 0.5405, Loss: 0.7839\n",
      "Epoch   0 Batch  170/538 - Train Accuracy: 0.5508, Validation Accuracy: 0.5602, Loss: 0.7727\n",
      "Epoch   0 Batch  180/538 - Train Accuracy: 0.5642, Validation Accuracy: 0.5449, Loss: 0.7567\n",
      "Epoch   0 Batch  190/538 - Train Accuracy: 0.5526, Validation Accuracy: 0.5673, Loss: 0.7602\n",
      "Epoch   0 Batch  200/538 - Train Accuracy: 0.5436, Validation Accuracy: 0.5495, Loss: 0.7159\n",
      "Epoch   0 Batch  210/538 - Train Accuracy: 0.5625, Validation Accuracy: 0.5804, Loss: 0.7047\n",
      "Epoch   0 Batch  220/538 - Train Accuracy: 0.5326, Validation Accuracy: 0.5598, Loss: 0.6810\n",
      "Epoch   0 Batch  230/538 - Train Accuracy: 0.5500, Validation Accuracy: 0.5804, Loss: 0.6993\n",
      "Epoch   0 Batch  240/538 - Train Accuracy: 0.5687, Validation Accuracy: 0.5893, Loss: 0.6868\n",
      "Epoch   0 Batch  250/538 - Train Accuracy: 0.5904, Validation Accuracy: 0.6001, Loss: 0.6580\n",
      "Epoch   0 Batch  260/538 - Train Accuracy: 0.5841, Validation Accuracy: 0.6023, Loss: 0.6451\n",
      "Epoch   0 Batch  270/538 - Train Accuracy: 0.5813, Validation Accuracy: 0.6069, Loss: 0.6421\n",
      "Epoch   0 Batch  280/538 - Train Accuracy: 0.6302, Validation Accuracy: 0.6033, Loss: 0.6039\n",
      "Epoch   0 Batch  290/538 - Train Accuracy: 0.5752, Validation Accuracy: 0.6051, Loss: 0.6307\n",
      "Epoch   0 Batch  300/538 - Train Accuracy: 0.6034, Validation Accuracy: 0.6048, Loss: 0.6158\n",
      "Epoch   0 Batch  310/538 - Train Accuracy: 0.5957, Validation Accuracy: 0.5975, Loss: 0.6139\n",
      "Epoch   0 Batch  320/538 - Train Accuracy: 0.6057, Validation Accuracy: 0.6113, Loss: 0.5954\n",
      "Epoch   0 Batch  330/538 - Train Accuracy: 0.6332, Validation Accuracy: 0.6303, Loss: 0.5569\n",
      "Epoch   0 Batch  340/538 - Train Accuracy: 0.5918, Validation Accuracy: 0.6214, Loss: 0.5980\n",
      "Epoch   0 Batch  350/538 - Train Accuracy: 0.6137, Validation Accuracy: 0.6367, Loss: 0.5666\n",
      "Epoch   0 Batch  360/538 - Train Accuracy: 0.6379, Validation Accuracy: 0.6436, Loss: 0.5664\n",
      "Epoch   0 Batch  370/538 - Train Accuracy: 0.6393, Validation Accuracy: 0.6394, Loss: 0.5485\n",
      "Epoch   0 Batch  380/538 - Train Accuracy: 0.6494, Validation Accuracy: 0.6552, Loss: 0.5171\n",
      "Epoch   0 Batch  390/538 - Train Accuracy: 0.6669, Validation Accuracy: 0.6500, Loss: 0.5039\n",
      "Epoch   0 Batch  400/538 - Train Accuracy: 0.6866, Validation Accuracy: 0.6571, Loss: 0.4870\n",
      "Epoch   0 Batch  410/538 - Train Accuracy: 0.6916, Validation Accuracy: 0.6793, Loss: 0.4900\n",
      "Epoch   0 Batch  420/538 - Train Accuracy: 0.6707, Validation Accuracy: 0.6761, Loss: 0.4734\n",
      "Epoch   0 Batch  430/538 - Train Accuracy: 0.6699, Validation Accuracy: 0.6740, Loss: 0.4464\n",
      "Epoch   0 Batch  440/538 - Train Accuracy: 0.7023, Validation Accuracy: 0.7005, Loss: 0.4624\n",
      "Epoch   0 Batch  450/538 - Train Accuracy: 0.7067, Validation Accuracy: 0.6941, Loss: 0.4295\n",
      "Epoch   0 Batch  460/538 - Train Accuracy: 0.7037, Validation Accuracy: 0.7058, Loss: 0.3966\n",
      "Epoch   0 Batch  470/538 - Train Accuracy: 0.7186, Validation Accuracy: 0.7143, Loss: 0.3892\n",
      "Epoch   0 Batch  480/538 - Train Accuracy: 0.7368, Validation Accuracy: 0.7157, Loss: 0.3682\n",
      "Epoch   0 Batch  490/538 - Train Accuracy: 0.7398, Validation Accuracy: 0.7157, Loss: 0.3546\n",
      "Epoch   0 Batch  500/538 - Train Accuracy: 0.7775, Validation Accuracy: 0.7177, Loss: 0.3147\n",
      "Epoch   0 Batch  510/538 - Train Accuracy: 0.7565, Validation Accuracy: 0.7225, Loss: 0.3210\n",
      "Epoch   0 Batch  520/538 - Train Accuracy: 0.7396, Validation Accuracy: 0.7324, Loss: 0.3325\n",
      "Epoch   0 Batch  530/538 - Train Accuracy: 0.7428, Validation Accuracy: 0.7296, Loss: 0.3105\n",
      "Epoch   1 Batch   10/538 - Train Accuracy: 0.7510, Validation Accuracy: 0.7640, Loss: 0.3054\n",
      "Epoch   1 Batch   20/538 - Train Accuracy: 0.7641, Validation Accuracy: 0.7427, Loss: 0.2797\n",
      "Epoch   1 Batch   30/538 - Train Accuracy: 0.7717, Validation Accuracy: 0.7619, Loss: 0.2835\n",
      "Epoch   1 Batch   40/538 - Train Accuracy: 0.8354, Validation Accuracy: 0.7908, Loss: 0.2250\n",
      "Epoch   1 Batch   50/538 - Train Accuracy: 0.8076, Validation Accuracy: 0.7782, Loss: 0.2385\n",
      "Epoch   1 Batch   60/538 - Train Accuracy: 0.8150, Validation Accuracy: 0.7704, Loss: 0.2443\n",
      "Epoch   1 Batch   70/538 - Train Accuracy: 0.8224, Validation Accuracy: 0.7876, Loss: 0.2246\n",
      "Epoch   1 Batch   80/538 - Train Accuracy: 0.8055, Validation Accuracy: 0.7880, Loss: 0.2230\n",
      "Epoch   1 Batch   90/538 - Train Accuracy: 0.8039, Validation Accuracy: 0.7981, Loss: 0.2336\n",
      "Epoch   1 Batch  100/538 - Train Accuracy: 0.8436, Validation Accuracy: 0.8217, Loss: 0.1976\n",
      "Epoch   1 Batch  110/538 - Train Accuracy: 0.8391, Validation Accuracy: 0.8326, Loss: 0.1971\n",
      "Epoch   1 Batch  120/538 - Train Accuracy: 0.8590, Validation Accuracy: 0.8226, Loss: 0.1765\n",
      "Epoch   1 Batch  130/538 - Train Accuracy: 0.8860, Validation Accuracy: 0.8338, Loss: 0.1691\n",
      "Epoch   1 Batch  140/538 - Train Accuracy: 0.8418, Validation Accuracy: 0.8455, Loss: 0.1918\n",
      "Epoch   1 Batch  150/538 - Train Accuracy: 0.8547, Validation Accuracy: 0.8384, Loss: 0.1602\n",
      "Epoch   1 Batch  160/538 - Train Accuracy: 0.8575, Validation Accuracy: 0.8537, Loss: 0.1443\n",
      "Epoch   1 Batch  170/538 - Train Accuracy: 0.8718, Validation Accuracy: 0.8608, Loss: 0.1547\n",
      "Epoch   1 Batch  180/538 - Train Accuracy: 0.8653, Validation Accuracy: 0.8558, Loss: 0.1568\n",
      "Epoch   1 Batch  190/538 - Train Accuracy: 0.8627, Validation Accuracy: 0.8523, Loss: 0.1709\n",
      "Epoch   1 Batch  200/538 - Train Accuracy: 0.8912, Validation Accuracy: 0.8809, Loss: 0.1293\n",
      "Epoch   1 Batch  210/538 - Train Accuracy: 0.8689, Validation Accuracy: 0.8633, Loss: 0.1307\n",
      "Epoch   1 Batch  220/538 - Train Accuracy: 0.8880, Validation Accuracy: 0.8494, Loss: 0.1281\n",
      "Epoch   1 Batch  230/538 - Train Accuracy: 0.8668, Validation Accuracy: 0.8691, Loss: 0.1363\n",
      "Epoch   1 Batch  240/538 - Train Accuracy: 0.8867, Validation Accuracy: 0.8812, Loss: 0.1325\n",
      "Epoch   1 Batch  250/538 - Train Accuracy: 0.9045, Validation Accuracy: 0.8981, Loss: 0.1173\n",
      "Epoch   1 Batch  260/538 - Train Accuracy: 0.8824, Validation Accuracy: 0.8862, Loss: 0.1207\n",
      "Epoch   1 Batch  270/538 - Train Accuracy: 0.8920, Validation Accuracy: 0.8794, Loss: 0.1101\n",
      "Epoch   1 Batch  280/538 - Train Accuracy: 0.8992, Validation Accuracy: 0.8691, Loss: 0.1037\n",
      "Epoch   1 Batch  290/538 - Train Accuracy: 0.9207, Validation Accuracy: 0.8926, Loss: 0.0976\n",
      "Epoch   1 Batch  300/538 - Train Accuracy: 0.9144, Validation Accuracy: 0.8960, Loss: 0.1048\n",
      "Epoch   1 Batch  310/538 - Train Accuracy: 0.9252, Validation Accuracy: 0.8849, Loss: 0.0950\n",
      "Epoch   1 Batch  320/538 - Train Accuracy: 0.9116, Validation Accuracy: 0.9187, Loss: 0.0866\n",
      "Epoch   1 Batch  330/538 - Train Accuracy: 0.9189, Validation Accuracy: 0.8977, Loss: 0.0950\n",
      "Epoch   1 Batch  340/538 - Train Accuracy: 0.8873, Validation Accuracy: 0.9016, Loss: 0.1001\n",
      "Epoch   1 Batch  350/538 - Train Accuracy: 0.9027, Validation Accuracy: 0.8920, Loss: 0.1102\n",
      "Epoch   1 Batch  360/538 - Train Accuracy: 0.8977, Validation Accuracy: 0.9134, Loss: 0.0941\n",
      "Epoch   1 Batch  370/538 - Train Accuracy: 0.9164, Validation Accuracy: 0.9086, Loss: 0.0936\n",
      "Epoch   1 Batch  380/538 - Train Accuracy: 0.9043, Validation Accuracy: 0.9158, Loss: 0.0812\n",
      "Epoch   1 Batch  390/538 - Train Accuracy: 0.9208, Validation Accuracy: 0.9268, Loss: 0.0776\n",
      "Epoch   1 Batch  400/538 - Train Accuracy: 0.9144, Validation Accuracy: 0.9091, Loss: 0.0892\n",
      "Epoch   1 Batch  410/538 - Train Accuracy: 0.9150, Validation Accuracy: 0.9047, Loss: 0.0917\n",
      "Epoch   1 Batch  420/538 - Train Accuracy: 0.9379, Validation Accuracy: 0.9151, Loss: 0.0838\n",
      "Epoch   1 Batch  430/538 - Train Accuracy: 0.9012, Validation Accuracy: 0.9102, Loss: 0.0857\n",
      "Epoch   1 Batch  440/538 - Train Accuracy: 0.9143, Validation Accuracy: 0.9112, Loss: 0.0994\n",
      "Epoch   1 Batch  450/538 - Train Accuracy: 0.8981, Validation Accuracy: 0.9105, Loss: 0.0992\n",
      "Epoch   1 Batch  460/538 - Train Accuracy: 0.8968, Validation Accuracy: 0.9197, Loss: 0.0919\n",
      "Epoch   1 Batch  470/538 - Train Accuracy: 0.9182, Validation Accuracy: 0.9196, Loss: 0.0753\n",
      "Epoch   1 Batch  480/538 - Train Accuracy: 0.9284, Validation Accuracy: 0.9068, Loss: 0.0720\n",
      "Epoch   1 Batch  490/538 - Train Accuracy: 0.9276, Validation Accuracy: 0.9176, Loss: 0.0632\n",
      "Epoch   1 Batch  500/538 - Train Accuracy: 0.9364, Validation Accuracy: 0.9247, Loss: 0.0545\n",
      "Epoch   1 Batch  510/538 - Train Accuracy: 0.9262, Validation Accuracy: 0.9339, Loss: 0.0681\n",
      "Epoch   1 Batch  520/538 - Train Accuracy: 0.9309, Validation Accuracy: 0.9247, Loss: 0.0721\n",
      "Epoch   1 Batch  530/538 - Train Accuracy: 0.9088, Validation Accuracy: 0.9256, Loss: 0.0742\n",
      "Epoch   2 Batch   10/538 - Train Accuracy: 0.9191, Validation Accuracy: 0.9222, Loss: 0.0839\n",
      "Epoch   2 Batch   20/538 - Train Accuracy: 0.9327, Validation Accuracy: 0.9286, Loss: 0.0589\n",
      "Epoch   2 Batch   30/538 - Train Accuracy: 0.9211, Validation Accuracy: 0.9370, Loss: 0.0831\n",
      "Epoch   2 Batch   40/538 - Train Accuracy: 0.9375, Validation Accuracy: 0.9331, Loss: 0.0518\n",
      "Epoch   2 Batch   50/538 - Train Accuracy: 0.9203, Validation Accuracy: 0.9348, Loss: 0.0643\n",
      "Epoch   2 Batch   60/538 - Train Accuracy: 0.9391, Validation Accuracy: 0.9311, Loss: 0.0595\n",
      "Epoch   2 Batch   70/538 - Train Accuracy: 0.9282, Validation Accuracy: 0.9219, Loss: 0.0615\n",
      "Epoch   2 Batch   80/538 - Train Accuracy: 0.9441, Validation Accuracy: 0.9261, Loss: 0.0614\n",
      "Epoch   2 Batch   90/538 - Train Accuracy: 0.9252, Validation Accuracy: 0.9274, Loss: 0.0681\n",
      "Epoch   2 Batch  100/538 - Train Accuracy: 0.9396, Validation Accuracy: 0.9341, Loss: 0.0554\n",
      "Epoch   2 Batch  110/538 - Train Accuracy: 0.9213, Validation Accuracy: 0.9297, Loss: 0.0615\n",
      "Epoch   2 Batch  120/538 - Train Accuracy: 0.9453, Validation Accuracy: 0.9190, Loss: 0.0486\n",
      "Epoch   2 Batch  130/538 - Train Accuracy: 0.9461, Validation Accuracy: 0.9476, Loss: 0.0596\n",
      "Epoch   2 Batch  140/538 - Train Accuracy: 0.9271, Validation Accuracy: 0.9254, Loss: 0.0723\n",
      "Epoch   2 Batch  150/538 - Train Accuracy: 0.9371, Validation Accuracy: 0.9286, Loss: 0.0553\n",
      "Epoch   2 Batch  160/538 - Train Accuracy: 0.9314, Validation Accuracy: 0.9379, Loss: 0.0635\n",
      "Epoch   2 Batch  170/538 - Train Accuracy: 0.9449, Validation Accuracy: 0.9391, Loss: 0.0582\n",
      "Epoch   2 Batch  180/538 - Train Accuracy: 0.9455, Validation Accuracy: 0.9283, Loss: 0.0567\n",
      "Epoch   2 Batch  190/538 - Train Accuracy: 0.9433, Validation Accuracy: 0.9426, Loss: 0.0729\n",
      "Epoch   2 Batch  200/538 - Train Accuracy: 0.9520, Validation Accuracy: 0.9277, Loss: 0.0507\n",
      "Epoch   2 Batch  210/538 - Train Accuracy: 0.9250, Validation Accuracy: 0.9418, Loss: 0.0612\n",
      "Epoch   2 Batch  220/538 - Train Accuracy: 0.9273, Validation Accuracy: 0.9331, Loss: 0.0620\n",
      "Epoch   2 Batch  230/538 - Train Accuracy: 0.9299, Validation Accuracy: 0.9407, Loss: 0.0623\n",
      "Epoch   2 Batch  240/538 - Train Accuracy: 0.9340, Validation Accuracy: 0.9414, Loss: 0.0646\n",
      "Epoch   2 Batch  250/538 - Train Accuracy: 0.9432, Validation Accuracy: 0.9407, Loss: 0.0541\n",
      "Epoch   2 Batch  260/538 - Train Accuracy: 0.9159, Validation Accuracy: 0.9327, Loss: 0.0588\n",
      "Epoch   2 Batch  270/538 - Train Accuracy: 0.9445, Validation Accuracy: 0.9505, Loss: 0.0515\n",
      "Epoch   2 Batch  280/538 - Train Accuracy: 0.9524, Validation Accuracy: 0.9508, Loss: 0.0427\n",
      "Epoch   2 Batch  290/538 - Train Accuracy: 0.9467, Validation Accuracy: 0.9529, Loss: 0.0469\n",
      "Epoch   2 Batch  300/538 - Train Accuracy: 0.9278, Validation Accuracy: 0.9434, Loss: 0.0540\n",
      "Epoch   2 Batch  310/538 - Train Accuracy: 0.9609, Validation Accuracy: 0.9503, Loss: 0.0553\n",
      "Epoch   2 Batch  320/538 - Train Accuracy: 0.9520, Validation Accuracy: 0.9464, Loss: 0.0503\n",
      "Epoch   2 Batch  330/538 - Train Accuracy: 0.9660, Validation Accuracy: 0.9416, Loss: 0.0482\n",
      "Epoch   2 Batch  340/538 - Train Accuracy: 0.9393, Validation Accuracy: 0.9490, Loss: 0.0547\n",
      "Epoch   2 Batch  350/538 - Train Accuracy: 0.9438, Validation Accuracy: 0.9332, Loss: 0.0603\n",
      "Epoch   2 Batch  360/538 - Train Accuracy: 0.9445, Validation Accuracy: 0.9425, Loss: 0.0466\n",
      "Epoch   2 Batch  370/538 - Train Accuracy: 0.9525, Validation Accuracy: 0.9426, Loss: 0.0476\n",
      "Epoch   2 Batch  380/538 - Train Accuracy: 0.9367, Validation Accuracy: 0.9490, Loss: 0.0430\n",
      "Epoch   2 Batch  390/538 - Train Accuracy: 0.9505, Validation Accuracy: 0.9538, Loss: 0.0410\n",
      "Epoch   2 Batch  400/538 - Train Accuracy: 0.9537, Validation Accuracy: 0.9462, Loss: 0.0481\n",
      "Epoch   2 Batch  410/538 - Train Accuracy: 0.9574, Validation Accuracy: 0.9492, Loss: 0.0539\n",
      "Epoch   2 Batch  420/538 - Train Accuracy: 0.9590, Validation Accuracy: 0.9517, Loss: 0.0530\n",
      "Epoch   2 Batch  430/538 - Train Accuracy: 0.9256, Validation Accuracy: 0.9451, Loss: 0.0473\n",
      "Epoch   2 Batch  440/538 - Train Accuracy: 0.9420, Validation Accuracy: 0.9522, Loss: 0.0564\n",
      "Epoch   2 Batch  450/538 - Train Accuracy: 0.9321, Validation Accuracy: 0.9517, Loss: 0.0690\n",
      "Epoch   2 Batch  460/538 - Train Accuracy: 0.9369, Validation Accuracy: 0.9517, Loss: 0.0545\n",
      "Epoch   2 Batch  470/538 - Train Accuracy: 0.9472, Validation Accuracy: 0.9542, Loss: 0.0451\n",
      "Epoch   2 Batch  480/538 - Train Accuracy: 0.9516, Validation Accuracy: 0.9402, Loss: 0.0492\n",
      "Epoch   2 Batch  490/538 - Train Accuracy: 0.9570, Validation Accuracy: 0.9467, Loss: 0.0436\n",
      "Epoch   2 Batch  500/538 - Train Accuracy: 0.9656, Validation Accuracy: 0.9508, Loss: 0.0353\n",
      "Epoch   2 Batch  510/538 - Train Accuracy: 0.9602, Validation Accuracy: 0.9426, Loss: 0.0440\n",
      "Epoch   2 Batch  520/538 - Train Accuracy: 0.9482, Validation Accuracy: 0.9503, Loss: 0.0436\n",
      "Epoch   2 Batch  530/538 - Train Accuracy: 0.9344, Validation Accuracy: 0.9663, Loss: 0.0547\n",
      "Model Trained and Saved\n"
     ]
    }
   ],
   "source": [
    "\"\"\"\n",
    "DON'T MODIFY ANYTHING IN THIS CELL\n",
    "\"\"\"\n",
    "def get_accuracy(target, logits):\n",
    "    \"\"\"\n",
    "    Calculate accuracy\n",
    "    \"\"\"\n",
    "    max_seq = max(target.shape[1], logits.shape[1])\n",
    "    if max_seq - target.shape[1]:\n",
    "        target = np.pad(\n",
    "            target,\n",
    "            [(0,0),(0,max_seq - target.shape[1])],\n",
    "            'constant')\n",
    "    if max_seq - logits.shape[1]:\n",
    "        logits = np.pad(\n",
    "            logits,\n",
    "            [(0,0),(0,max_seq - logits.shape[1])],\n",
    "            'constant')\n",
    "\n",
    "    return np.mean(np.equal(target, logits))\n",
    "\n",
    "# Split data to training and validation sets\n",
    "train_source = source_int_text[batch_size:]\n",
    "train_target = target_int_text[batch_size:]\n",
    "valid_source = source_int_text[:batch_size]\n",
    "valid_target = target_int_text[:batch_size]\n",
    "(valid_sources_batch, valid_targets_batch, valid_sources_lengths, valid_targets_lengths ) = next(get_batches(valid_source,\n",
    "                                                                                                             valid_target,\n",
    "                                                                                                             batch_size,\n",
    "                                                                                                             source_vocab_to_int['<PAD>'],\n",
    "                                                                                                             target_vocab_to_int['<PAD>']))                                                                                                  \n",
    "with tf.Session(graph=train_graph) as sess:\n",
    "    sess.run(tf.global_variables_initializer())\n",
    "\n",
    "    for epoch_i in range(epochs):\n",
    "        for batch_i, (source_batch, target_batch, sources_lengths, targets_lengths) in enumerate(\n",
    "                get_batches(train_source, train_target, batch_size,\n",
    "                            source_vocab_to_int['<PAD>'],\n",
    "                            target_vocab_to_int['<PAD>'])):\n",
    "\n",
    "            _, loss = sess.run(\n",
    "                [train_op, cost],\n",
    "                {input_data: source_batch,\n",
    "                 targets: target_batch,\n",
    "                 lr: learning_rate,\n",
    "                 target_sequence_length: targets_lengths,\n",
    "                 source_sequence_length: sources_lengths,\n",
    "                 keep_prob: keep_probability})\n",
    "\n",
    "\n",
    "            if batch_i % display_step == 0 and batch_i > 0:\n",
    "\n",
    "\n",
    "                batch_train_logits = sess.run(\n",
    "                    inference_logits,\n",
    "                    {input_data: source_batch,\n",
    "                     source_sequence_length: sources_lengths,\n",
    "                     target_sequence_length: targets_lengths,\n",
    "                     keep_prob: 1.0})\n",
    "\n",
    "\n",
    "                batch_valid_logits = sess.run(\n",
    "                    inference_logits,\n",
    "                    {input_data: valid_sources_batch,\n",
    "                     source_sequence_length: valid_sources_lengths,\n",
    "                     target_sequence_length: valid_targets_lengths,\n",
    "                     keep_prob: 1.0})\n",
    "\n",
    "                train_acc = get_accuracy(target_batch, batch_train_logits)\n",
    "\n",
    "                valid_acc = get_accuracy(valid_targets_batch, batch_valid_logits)\n",
    "\n",
    "                print('Epoch {:>3} Batch {:>4}/{} - Train Accuracy: {:>6.4f}, Validation Accuracy: {:>6.4f}, Loss: {:>6.4f}'\n",
    "                      .format(epoch_i, batch_i, len(source_int_text) // batch_size, train_acc, valid_acc, loss))\n",
    "\n",
    "    # Save Model\n",
    "    saver = tf.train.Saver()\n",
    "    saver.save(sess, save_path)\n",
    "    print('Model Trained and Saved')"
   ]
  },
  {
   "cell_type": "markdown",
   "metadata": {},
   "source": [
    "### Save Parameters\n",
    "Save the `batch_size` and `save_path` parameters for inference."
   ]
  },
  {
   "cell_type": "code",
   "execution_count": 18,
   "metadata": {
    "collapsed": true
   },
   "outputs": [],
   "source": [
    "\"\"\"\n",
    "DON'T MODIFY ANYTHING IN THIS CELL\n",
    "\"\"\"\n",
    "# Save parameters for checkpoint\n",
    "helper.save_params(save_path)"
   ]
  },
  {
   "cell_type": "markdown",
   "metadata": {},
   "source": [
    "# Checkpoint"
   ]
  },
  {
   "cell_type": "code",
   "execution_count": 19,
   "metadata": {
    "collapsed": true
   },
   "outputs": [],
   "source": [
    "\"\"\"\n",
    "DON'T MODIFY ANYTHING IN THIS CELL\n",
    "\"\"\"\n",
    "import tensorflow as tf\n",
    "import numpy as np\n",
    "import helper\n",
    "import problem_unittests as tests\n",
    "\n",
    "_, (source_vocab_to_int, target_vocab_to_int), (source_int_to_vocab, target_int_to_vocab) = helper.load_preprocess()\n",
    "load_path = helper.load_params()"
   ]
  },
  {
   "cell_type": "markdown",
   "metadata": {},
   "source": [
    "## Sentence to Sequence\n",
    "To feed a sentence into the model for translation, you first need to preprocess it.  Implement the function `sentence_to_seq()` to preprocess new sentences.\n",
    "\n",
    "- Convert the sentence to lowercase\n",
    "- Convert words into ids using `vocab_to_int`\n",
    " - Convert words not in the vocabulary, to the `<UNK>` word id."
   ]
  },
  {
   "cell_type": "code",
   "execution_count": 20,
   "metadata": {
    "collapsed": false
   },
   "outputs": [
    {
     "name": "stdout",
     "output_type": "stream",
     "text": [
      "Tests Passed\n"
     ]
    }
   ],
   "source": [
    "def sentence_to_seq(sentence, vocab_to_int):\n",
    "    \"\"\"\n",
    "    Convert a sentence to a sequence of ids\n",
    "    :param sentence: String\n",
    "    :param vocab_to_int: Dictionary to go from the words to an id\n",
    "    :return: List of word ids\n",
    "    \"\"\"\n",
    "    return [vocab_to_int.get(word, vocab_to_int['<UNK>']) for word in sentence.split()]\n",
    "\n",
    "\n",
    "\"\"\"\n",
    "DON'T MODIFY ANYTHING IN THIS CELL THAT IS BELOW THIS LINE\n",
    "\"\"\"\n",
    "tests.test_sentence_to_seq(sentence_to_seq)"
   ]
  },
  {
   "cell_type": "markdown",
   "metadata": {},
   "source": [
    "## Translate\n",
    "This will translate `translate_sentence` from English to French."
   ]
  },
  {
   "cell_type": "code",
   "execution_count": 21,
   "metadata": {
    "collapsed": false
   },
   "outputs": [
    {
     "name": "stdout",
     "output_type": "stream",
     "text": [
      "INFO:tensorflow:Restoring parameters from checkpoints/dev\n",
      "Input\n",
      "  Word Ids:      [223, 84, 111, 183, 152, 21, 79]\n",
      "  English Words: ['he', 'saw', 'a', 'old', 'yellow', 'truck', '.']\n",
      "\n",
      "Prediction\n",
      "  Word Ids:      [106, 311, 65, 61, 107, 205, 118, 1]\n",
      "  French Words: il a vu un camion jaune . <EOS>\n"
     ]
    }
   ],
   "source": [
    "translate_sentence = 'he saw a old yellow truck .'\n",
    "\n",
    "\n",
    "\"\"\"\n",
    "DON'T MODIFY ANYTHING IN THIS CELL\n",
    "\"\"\"\n",
    "translate_sentence = sentence_to_seq(translate_sentence, source_vocab_to_int)\n",
    "\n",
    "loaded_graph = tf.Graph()\n",
    "with tf.Session(graph=loaded_graph) as sess:\n",
    "    # Load saved model\n",
    "    loader = tf.train.import_meta_graph(load_path + '.meta')\n",
    "    loader.restore(sess, load_path)\n",
    "\n",
    "    input_data = loaded_graph.get_tensor_by_name('input:0')\n",
    "    logits = loaded_graph.get_tensor_by_name('predictions:0')\n",
    "    target_sequence_length = loaded_graph.get_tensor_by_name('target_sequence_length:0')\n",
    "    source_sequence_length = loaded_graph.get_tensor_by_name('source_sequence_length:0')\n",
    "    keep_prob = loaded_graph.get_tensor_by_name('keep_prob:0')\n",
    "\n",
    "    translate_logits = sess.run(logits, {input_data: [translate_sentence]*batch_size,\n",
    "                                         target_sequence_length: [len(translate_sentence)*2]*batch_size,\n",
    "                                         source_sequence_length: [len(translate_sentence)]*batch_size,\n",
    "                                         keep_prob: 1.0})[0]\n",
    "\n",
    "print('Input')\n",
    "print('  Word Ids:      {}'.format([i for i in translate_sentence]))\n",
    "print('  English Words: {}'.format([source_int_to_vocab[i] for i in translate_sentence]))\n",
    "\n",
    "print('\\nPrediction')\n",
    "print('  Word Ids:      {}'.format([i for i in translate_logits]))\n",
    "print('  French Words: {}'.format(\" \".join([target_int_to_vocab[i] for i in translate_logits])))\n"
   ]
  },
  {
   "cell_type": "markdown",
   "metadata": {},
   "source": [
    "## Imperfect Translation\n",
    "You might notice that some sentences translate better than others.  Since the dataset you're using only has a vocabulary of 227 English words of the thousands that you use, you're only going to see good results using these words.  For this project, you don't need a perfect translation. However, if you want to create a better translation model, you'll need better data.\n",
    "\n",
    "You can train on the [WMT10 French-English corpus](http://www.statmt.org/wmt10/training-giga-fren.tar).  This dataset has more vocabulary and richer in topics discussed.  However, this will take you days to train, so make sure you've a GPU and the neural network is performing well on dataset we provided.  Just make sure you play with the WMT10 corpus after you've submitted this project.\n",
    "## Submitting This Project\n",
    "When submitting this project, make sure to run all the cells before saving the notebook. Save the notebook file as \"dlnd_language_translation.ipynb\" and save it as a HTML file under \"File\" -> \"Download as\". Include the \"helper.py\" and \"problem_unittests.py\" files in your submission.\n",
    "\n",
    "References:\n",
    "\n",
    "https://github.com/udacity/deep-learning\n",
    "\n",
    "https://github.com/davismartin/uda-deep-learning-fundamentals\n",
    "\n",
    "And one other repo that I've lost due to switching computers I've used."
   ]
  },
  {
   "cell_type": "code",
   "execution_count": null,
   "metadata": {
    "collapsed": true
   },
   "outputs": [],
   "source": []
  }
 ],
 "metadata": {
  "anaconda-cloud": {},
  "kernelspec": {
   "display_name": "Python 3",
   "language": "python",
   "name": "python3"
  },
  "language_info": {
   "codemirror_mode": {
    "name": "ipython",
    "version": 3
   },
   "file_extension": ".py",
   "mimetype": "text/x-python",
   "name": "python",
   "nbconvert_exporter": "python",
   "pygments_lexer": "ipython3",
   "version": "3.5.3"
  }
 },
 "nbformat": 4,
 "nbformat_minor": 1
}
